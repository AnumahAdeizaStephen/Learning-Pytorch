{
  "nbformat": 4,
  "nbformat_minor": 0,
  "metadata": {
    "colab": {
      "provenance": [],
      "authorship_tag": "ABX9TyP0Pil1yXdOWZTwH/TWMsVJ",
      "include_colab_link": true
    },
    "kernelspec": {
      "name": "python3",
      "display_name": "Python 3"
    },
    "language_info": {
      "name": "python"
    }
  },
  "cells": [
    {
      "cell_type": "markdown",
      "metadata": {
        "id": "view-in-github",
        "colab_type": "text"
      },
      "source": [
        "<a href=\"https://colab.research.google.com/github/AnumahAdeizaStephen/Learning-Pytorch/blob/main/Learning_ResNet.ipynb\" target=\"_parent\"><img src=\"https://colab.research.google.com/assets/colab-badge.svg\" alt=\"Open In Colab\"/></a>"
      ]
    },
    {
      "cell_type": "markdown",
      "source": [
        "# **ResNet Tutorial**"
      ],
      "metadata": {
        "id": "hnRZh4qFUeGW"
      }
    },
    {
      "cell_type": "code",
      "source": [
        "from torch import nn, save, load\n",
        "from torch.optim import Adam\n",
        "from torch.utils.data import DataLoader\n",
        "from torchvision.transforms import ToTensor\n",
        "from torchvision import datasets\n",
        "from tqdm import tqdm\n",
        "import torch\n",
        "import matplotlib.pyplot as plt\n",
        "import numpy as np\n",
        "from PIL import Image"
      ],
      "metadata": {
        "id": "zOsjhuZGUlnU"
      },
      "execution_count": 8,
      "outputs": []
    },
    {
      "cell_type": "markdown",
      "source": [
        "# ***Get  Data ***"
      ],
      "metadata": {
        "id": "c7S0WYy0hHk5"
      }
    },
    {
      "cell_type": "code",
      "source": [
        "train =  datasets.MNIST(root=\"data\", download=True, train=True, transform=ToTensor())\n",
        "dataset = DataLoader(train, 32)"
      ],
      "metadata": {
        "id": "eFxwJ9hrYowI"
      },
      "execution_count": 9,
      "outputs": []
    },
    {
      "cell_type": "markdown",
      "source": [
        "# **Image Classifier Neural Network**"
      ],
      "metadata": {
        "id": "C0BIHdn0i0bt"
      }
    },
    {
      "cell_type": "code",
      "source": [
        "class ImageClassifier(nn.Module):\n",
        "    def __init__(self):\n",
        "        super().__init__()\n",
        "        self.model = nn.Sequential(\n",
        "            nn.Conv2d(1, 32, (3,3)),\n",
        "            nn.ReLU(),\n",
        "            nn.Conv2d(32, 64, (3,3)),\n",
        "            nn.ReLU(),\n",
        "            nn.Conv2d(64, 64, (3,3)),\n",
        "            nn.ReLU(),\n",
        "            nn.Flatten(),\n",
        "            nn.Linear(64*(28-6)*(28-6), 10)\n",
        "        )\n",
        "\n",
        "    def forward(self, x):\n",
        "        return self.model(x)\n",
        ""
      ],
      "metadata": {
        "id": "rOH-JrCwhWyH"
      },
      "execution_count": 10,
      "outputs": []
    },
    {
      "cell_type": "markdown",
      "source": [
        "# **Instance of Neural Network, Loss, Optimizer ** **italicized text**"
      ],
      "metadata": {
        "id": "IaqS2OTkjNIs"
      }
    },
    {
      "cell_type": "code",
      "source": [
        "clf = ImageClassifier().to('cpu')\n",
        "opt = Adam(clf.parameters(), lr=1e-3)\n",
        "loss_fn = nn.CrossEntropyLoss()"
      ],
      "metadata": {
        "id": "8E40G4XhjMUO"
      },
      "execution_count": 11,
      "outputs": []
    },
    {
      "cell_type": "markdown",
      "source": [
        "# **Training Flow**"
      ],
      "metadata": {
        "id": "1VNcqm36ktvc"
      }
    },
    {
      "cell_type": "code",
      "source": [
        "if __name__ == \"__main__\":\n",
        "  for epoch in range(10):\n",
        "    for batch in tqdm(dataset):\n",
        "      X, y = batch\n",
        "      X, y =X.to('cpu'), y.to('cpu')\n",
        "      yhat = clf(X)\n",
        "      loss = loss_fn(yhat, y)\n",
        "\n",
        "      opt.zero_grad()\n",
        "      loss.backward()\n",
        "      opt.step()\n",
        "\n",
        "    print(f\"Epoch:{epoch} loss is {loss.item()}\")\n",
        "\n",
        "with open('model_state.pt', 'wb') as f:\n",
        "  torch.save(clf.state_dict(), f)"
      ],
      "metadata": {
        "colab": {
          "base_uri": "https://localhost:8080/"
        },
        "id": "sfbtJm7RjoYc",
        "outputId": "bcc2ed97-5c35-4785-8a21-b15433837c16"
      },
      "execution_count": 7,
      "outputs": [
        {
          "output_type": "stream",
          "name": "stderr",
          "text": [
            "100%|██████████| 1875/1875 [04:44<00:00,  6.59it/s]\n"
          ]
        },
        {
          "output_type": "stream",
          "name": "stdout",
          "text": [
            "Epoch:0 loss is 0.056416720151901245\n"
          ]
        },
        {
          "output_type": "stream",
          "name": "stderr",
          "text": [
            "100%|██████████| 1875/1875 [04:47<00:00,  6.53it/s]\n"
          ]
        },
        {
          "output_type": "stream",
          "name": "stdout",
          "text": [
            "Epoch:1 loss is 0.006375840399414301\n"
          ]
        },
        {
          "output_type": "stream",
          "name": "stderr",
          "text": [
            "100%|██████████| 1875/1875 [04:48<00:00,  6.49it/s]\n"
          ]
        },
        {
          "output_type": "stream",
          "name": "stdout",
          "text": [
            "Epoch:2 loss is 0.0013512532459571958\n"
          ]
        },
        {
          "output_type": "stream",
          "name": "stderr",
          "text": [
            "100%|██████████| 1875/1875 [04:47<00:00,  6.52it/s]\n"
          ]
        },
        {
          "output_type": "stream",
          "name": "stdout",
          "text": [
            "Epoch:3 loss is 0.010603335686028004\n"
          ]
        },
        {
          "output_type": "stream",
          "name": "stderr",
          "text": [
            "100%|██████████| 1875/1875 [04:57<00:00,  6.29it/s]\n"
          ]
        },
        {
          "output_type": "stream",
          "name": "stdout",
          "text": [
            "Epoch:4 loss is 5.176726699573919e-05\n"
          ]
        },
        {
          "output_type": "stream",
          "name": "stderr",
          "text": [
            "100%|██████████| 1875/1875 [04:59<00:00,  6.27it/s]\n"
          ]
        },
        {
          "output_type": "stream",
          "name": "stdout",
          "text": [
            "Epoch:5 loss is 5.5356322263833135e-06\n"
          ]
        },
        {
          "output_type": "stream",
          "name": "stderr",
          "text": [
            "100%|██████████| 1875/1875 [04:52<00:00,  6.41it/s]\n"
          ]
        },
        {
          "output_type": "stream",
          "name": "stdout",
          "text": [
            "Epoch:6 loss is 0.0009600890916772187\n"
          ]
        },
        {
          "output_type": "stream",
          "name": "stderr",
          "text": [
            "100%|██████████| 1875/1875 [04:46<00:00,  6.55it/s]\n"
          ]
        },
        {
          "output_type": "stream",
          "name": "stdout",
          "text": [
            "Epoch:7 loss is 1.6130315998452716e-06\n"
          ]
        },
        {
          "output_type": "stream",
          "name": "stderr",
          "text": [
            "100%|██████████| 1875/1875 [04:52<00:00,  6.40it/s]\n"
          ]
        },
        {
          "output_type": "stream",
          "name": "stdout",
          "text": [
            "Epoch:8 loss is 3.604474841267802e-05\n"
          ]
        },
        {
          "output_type": "stream",
          "name": "stderr",
          "text": [
            "100%|██████████| 1875/1875 [04:54<00:00,  6.38it/s]"
          ]
        },
        {
          "output_type": "stream",
          "name": "stdout",
          "text": [
            "Epoch:9 loss is 1.277984119951725e-05\n"
          ]
        },
        {
          "output_type": "stream",
          "name": "stderr",
          "text": [
            "\n"
          ]
        }
      ]
    },
    {
      "cell_type": "code",
      "source": [
        "if __name__ == \"__main__\":\n",
        "  with open('model_state.pt', 'rb') as f:\n",
        "    clf.load_state_dict(torch.load(f))\n",
        "    clf.eval()"
      ],
      "metadata": {
        "id": "HIMWDD4eDQA6"
      },
      "execution_count": null,
      "outputs": []
    }
  ]
}